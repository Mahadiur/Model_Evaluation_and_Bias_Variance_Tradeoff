{
 "cells": [
  {
   "cell_type": "markdown",
   "id": "d51f6882",
   "metadata": {},
   "source": [
    "### Model Evaluation and Bias Variance Tradeoff"
   ]
  },
  {
   "cell_type": "code",
   "execution_count": 1,
   "id": "b128178b",
   "metadata": {},
   "outputs": [],
   "source": [
    "import numpy as np\n",
    "import pandas as pd\n",
    "import os\n",
    "import matplotlib.pyplot as plt\n"
   ]
  },
  {
   "cell_type": "markdown",
   "id": "65e67bc4",
   "metadata": {},
   "source": [
    "### Step-1: Load Dataset"
   ]
  },
  {
   "cell_type": "code",
   "execution_count": 2,
   "id": "f71b32ce",
   "metadata": {},
   "outputs": [
    {
     "data": {
      "application/vnd.microsoft.datawrangler.viewer.v0+json": {
       "columns": [
        {
         "name": "index",
         "rawType": "int64",
         "type": "integer"
        },
        {
         "name": "price",
         "rawType": "int64",
         "type": "integer"
        },
        {
         "name": "area",
         "rawType": "int64",
         "type": "integer"
        },
        {
         "name": "bedrooms",
         "rawType": "int64",
         "type": "integer"
        },
        {
         "name": "bathrooms",
         "rawType": "int64",
         "type": "integer"
        },
        {
         "name": "stories",
         "rawType": "int64",
         "type": "integer"
        },
        {
         "name": "mainroad",
         "rawType": "object",
         "type": "string"
        },
        {
         "name": "guestroom",
         "rawType": "object",
         "type": "string"
        },
        {
         "name": "basement",
         "rawType": "object",
         "type": "string"
        },
        {
         "name": "hotwaterheating",
         "rawType": "object",
         "type": "string"
        },
        {
         "name": "airconditioning",
         "rawType": "object",
         "type": "string"
        },
        {
         "name": "parking",
         "rawType": "int64",
         "type": "integer"
        },
        {
         "name": "prefarea",
         "rawType": "object",
         "type": "string"
        },
        {
         "name": "furnishingstatus",
         "rawType": "object",
         "type": "string"
        }
       ],
       "ref": "bd0ba97c-2ff7-47d0-8822-8c088c1fa8ba",
       "rows": [
        [
         "0",
         "13300000",
         "7420",
         "4",
         "2",
         "3",
         "yes",
         "no",
         "no",
         "no",
         "yes",
         "2",
         "yes",
         "furnished"
        ],
        [
         "1",
         "12250000",
         "8960",
         "4",
         "4",
         "4",
         "yes",
         "no",
         "no",
         "no",
         "yes",
         "3",
         "no",
         "furnished"
        ],
        [
         "2",
         "12250000",
         "9960",
         "3",
         "2",
         "2",
         "yes",
         "no",
         "yes",
         "no",
         "no",
         "2",
         "yes",
         "semi-furnished"
        ],
        [
         "3",
         "12215000",
         "7500",
         "4",
         "2",
         "2",
         "yes",
         "no",
         "yes",
         "no",
         "yes",
         "3",
         "yes",
         "furnished"
        ],
        [
         "4",
         "11410000",
         "7420",
         "4",
         "1",
         "2",
         "yes",
         "yes",
         "yes",
         "no",
         "yes",
         "2",
         "no",
         "furnished"
        ]
       ],
       "shape": {
        "columns": 13,
        "rows": 5
       }
      },
      "text/html": [
       "<div>\n",
       "<style scoped>\n",
       "    .dataframe tbody tr th:only-of-type {\n",
       "        vertical-align: middle;\n",
       "    }\n",
       "\n",
       "    .dataframe tbody tr th {\n",
       "        vertical-align: top;\n",
       "    }\n",
       "\n",
       "    .dataframe thead th {\n",
       "        text-align: right;\n",
       "    }\n",
       "</style>\n",
       "<table border=\"1\" class=\"dataframe\">\n",
       "  <thead>\n",
       "    <tr style=\"text-align: right;\">\n",
       "      <th></th>\n",
       "      <th>price</th>\n",
       "      <th>area</th>\n",
       "      <th>bedrooms</th>\n",
       "      <th>bathrooms</th>\n",
       "      <th>stories</th>\n",
       "      <th>mainroad</th>\n",
       "      <th>guestroom</th>\n",
       "      <th>basement</th>\n",
       "      <th>hotwaterheating</th>\n",
       "      <th>airconditioning</th>\n",
       "      <th>parking</th>\n",
       "      <th>prefarea</th>\n",
       "      <th>furnishingstatus</th>\n",
       "    </tr>\n",
       "  </thead>\n",
       "  <tbody>\n",
       "    <tr>\n",
       "      <th>0</th>\n",
       "      <td>13300000</td>\n",
       "      <td>7420</td>\n",
       "      <td>4</td>\n",
       "      <td>2</td>\n",
       "      <td>3</td>\n",
       "      <td>yes</td>\n",
       "      <td>no</td>\n",
       "      <td>no</td>\n",
       "      <td>no</td>\n",
       "      <td>yes</td>\n",
       "      <td>2</td>\n",
       "      <td>yes</td>\n",
       "      <td>furnished</td>\n",
       "    </tr>\n",
       "    <tr>\n",
       "      <th>1</th>\n",
       "      <td>12250000</td>\n",
       "      <td>8960</td>\n",
       "      <td>4</td>\n",
       "      <td>4</td>\n",
       "      <td>4</td>\n",
       "      <td>yes</td>\n",
       "      <td>no</td>\n",
       "      <td>no</td>\n",
       "      <td>no</td>\n",
       "      <td>yes</td>\n",
       "      <td>3</td>\n",
       "      <td>no</td>\n",
       "      <td>furnished</td>\n",
       "    </tr>\n",
       "    <tr>\n",
       "      <th>2</th>\n",
       "      <td>12250000</td>\n",
       "      <td>9960</td>\n",
       "      <td>3</td>\n",
       "      <td>2</td>\n",
       "      <td>2</td>\n",
       "      <td>yes</td>\n",
       "      <td>no</td>\n",
       "      <td>yes</td>\n",
       "      <td>no</td>\n",
       "      <td>no</td>\n",
       "      <td>2</td>\n",
       "      <td>yes</td>\n",
       "      <td>semi-furnished</td>\n",
       "    </tr>\n",
       "    <tr>\n",
       "      <th>3</th>\n",
       "      <td>12215000</td>\n",
       "      <td>7500</td>\n",
       "      <td>4</td>\n",
       "      <td>2</td>\n",
       "      <td>2</td>\n",
       "      <td>yes</td>\n",
       "      <td>no</td>\n",
       "      <td>yes</td>\n",
       "      <td>no</td>\n",
       "      <td>yes</td>\n",
       "      <td>3</td>\n",
       "      <td>yes</td>\n",
       "      <td>furnished</td>\n",
       "    </tr>\n",
       "    <tr>\n",
       "      <th>4</th>\n",
       "      <td>11410000</td>\n",
       "      <td>7420</td>\n",
       "      <td>4</td>\n",
       "      <td>1</td>\n",
       "      <td>2</td>\n",
       "      <td>yes</td>\n",
       "      <td>yes</td>\n",
       "      <td>yes</td>\n",
       "      <td>no</td>\n",
       "      <td>yes</td>\n",
       "      <td>2</td>\n",
       "      <td>no</td>\n",
       "      <td>furnished</td>\n",
       "    </tr>\n",
       "  </tbody>\n",
       "</table>\n",
       "</div>"
      ],
      "text/plain": [
       "      price  area  bedrooms  bathrooms  stories mainroad guestroom basement  \\\n",
       "0  13300000  7420         4          2        3      yes        no       no   \n",
       "1  12250000  8960         4          4        4      yes        no       no   \n",
       "2  12250000  9960         3          2        2      yes        no      yes   \n",
       "3  12215000  7500         4          2        2      yes        no      yes   \n",
       "4  11410000  7420         4          1        2      yes       yes      yes   \n",
       "\n",
       "  hotwaterheating airconditioning  parking prefarea furnishingstatus  \n",
       "0              no             yes        2      yes        furnished  \n",
       "1              no             yes        3       no        furnished  \n",
       "2              no              no        2      yes   semi-furnished  \n",
       "3              no             yes        3      yes        furnished  \n",
       "4              no             yes        2       no        furnished  "
      ]
     },
     "execution_count": 2,
     "metadata": {},
     "output_type": "execute_result"
    }
   ],
   "source": [
    "Root_path = 'C:\\\\Users\\\\mdmes\\\\OneDrive\\\\Desktop\\\\Pandas Data'\n",
    "dataset_path = os.path.join(Root_path, 'housing_data.csv')\n",
    "\n",
    "house_data = pd.read_csv(\n",
    "    dataset_path\n",
    ")\n",
    "\n",
    "house_data.head()"
   ]
  },
  {
   "cell_type": "markdown",
   "id": "94500225",
   "metadata": {},
   "source": [
    "### Step-2: Clean data and Separate Number and Category colum"
   ]
  },
  {
   "cell_type": "code",
   "execution_count": 3,
   "id": "46268f02",
   "metadata": {},
   "outputs": [
    {
     "name": "stdout",
     "output_type": "stream",
     "text": [
      "<class 'pandas.core.frame.DataFrame'>\n",
      "RangeIndex: 545 entries, 0 to 544\n",
      "Data columns (total 13 columns):\n",
      " #   Column            Non-Null Count  Dtype \n",
      "---  ------            --------------  ----- \n",
      " 0   price             545 non-null    int64 \n",
      " 1   area              545 non-null    int64 \n",
      " 2   bedrooms          545 non-null    int64 \n",
      " 3   bathrooms         545 non-null    int64 \n",
      " 4   stories           545 non-null    int64 \n",
      " 5   mainroad          545 non-null    object\n",
      " 6   guestroom         545 non-null    object\n",
      " 7   basement          545 non-null    object\n",
      " 8   hotwaterheating   545 non-null    object\n",
      " 9   airconditioning   545 non-null    object\n",
      " 10  parking           545 non-null    int64 \n",
      " 11  prefarea          545 non-null    object\n",
      " 12  furnishingstatus  545 non-null    object\n",
      "dtypes: int64(6), object(7)\n",
      "memory usage: 55.5+ KB\n"
     ]
    }
   ],
   "source": [
    "house_data.info()"
   ]
  },
  {
   "cell_type": "code",
   "execution_count": 4,
   "id": "b0a16adb",
   "metadata": {},
   "outputs": [
    {
     "data": {
      "text/plain": [
       "Index(['price', 'area', 'bedrooms', 'bathrooms', 'stories', 'mainroad',\n",
       "       'guestroom', 'basement', 'hotwaterheating', 'airconditioning',\n",
       "       'parking', 'prefarea', 'furnishingstatus'],\n",
       "      dtype='object')"
      ]
     },
     "execution_count": 4,
     "metadata": {},
     "output_type": "execute_result"
    }
   ],
   "source": [
    "house_data.columns"
   ]
  },
  {
   "cell_type": "code",
   "execution_count": 5,
   "id": "e1c244da",
   "metadata": {},
   "outputs": [
    {
     "data": {
      "application/vnd.microsoft.datawrangler.viewer.v0+json": {
       "columns": [
        {
         "name": "index",
         "rawType": "int64",
         "type": "integer"
        },
        {
         "name": "area",
         "rawType": "int64",
         "type": "integer"
        },
        {
         "name": "bedrooms",
         "rawType": "int64",
         "type": "integer"
        },
        {
         "name": "bathrooms",
         "rawType": "int64",
         "type": "integer"
        },
        {
         "name": "stories",
         "rawType": "int64",
         "type": "integer"
        },
        {
         "name": "mainroad",
         "rawType": "object",
         "type": "string"
        },
        {
         "name": "guestroom",
         "rawType": "object",
         "type": "string"
        },
        {
         "name": "basement",
         "rawType": "object",
         "type": "string"
        },
        {
         "name": "hotwaterheating",
         "rawType": "object",
         "type": "string"
        },
        {
         "name": "airconditioning",
         "rawType": "object",
         "type": "string"
        },
        {
         "name": "parking",
         "rawType": "int64",
         "type": "integer"
        },
        {
         "name": "prefarea",
         "rawType": "object",
         "type": "string"
        },
        {
         "name": "furnishingstatus",
         "rawType": "object",
         "type": "string"
        },
        {
         "name": "price",
         "rawType": "int64",
         "type": "integer"
        }
       ],
       "ref": "51f4fd44-5993-4cc4-b499-c2a424f852d5",
       "rows": [
        [
         "0",
         "7420",
         "4",
         "2",
         "3",
         "yes",
         "no",
         "no",
         "no",
         "yes",
         "2",
         "yes",
         "furnished",
         "13300000"
        ],
        [
         "1",
         "8960",
         "4",
         "4",
         "4",
         "yes",
         "no",
         "no",
         "no",
         "yes",
         "3",
         "no",
         "furnished",
         "12250000"
        ],
        [
         "2",
         "9960",
         "3",
         "2",
         "2",
         "yes",
         "no",
         "yes",
         "no",
         "no",
         "2",
         "yes",
         "semi-furnished",
         "12250000"
        ],
        [
         "3",
         "7500",
         "4",
         "2",
         "2",
         "yes",
         "no",
         "yes",
         "no",
         "yes",
         "3",
         "yes",
         "furnished",
         "12215000"
        ],
        [
         "4",
         "7420",
         "4",
         "1",
         "2",
         "yes",
         "yes",
         "yes",
         "no",
         "yes",
         "2",
         "no",
         "furnished",
         "11410000"
        ]
       ],
       "shape": {
        "columns": 13,
        "rows": 5
       }
      },
      "text/html": [
       "<div>\n",
       "<style scoped>\n",
       "    .dataframe tbody tr th:only-of-type {\n",
       "        vertical-align: middle;\n",
       "    }\n",
       "\n",
       "    .dataframe tbody tr th {\n",
       "        vertical-align: top;\n",
       "    }\n",
       "\n",
       "    .dataframe thead th {\n",
       "        text-align: right;\n",
       "    }\n",
       "</style>\n",
       "<table border=\"1\" class=\"dataframe\">\n",
       "  <thead>\n",
       "    <tr style=\"text-align: right;\">\n",
       "      <th></th>\n",
       "      <th>area</th>\n",
       "      <th>bedrooms</th>\n",
       "      <th>bathrooms</th>\n",
       "      <th>stories</th>\n",
       "      <th>mainroad</th>\n",
       "      <th>guestroom</th>\n",
       "      <th>basement</th>\n",
       "      <th>hotwaterheating</th>\n",
       "      <th>airconditioning</th>\n",
       "      <th>parking</th>\n",
       "      <th>prefarea</th>\n",
       "      <th>furnishingstatus</th>\n",
       "      <th>price</th>\n",
       "    </tr>\n",
       "  </thead>\n",
       "  <tbody>\n",
       "    <tr>\n",
       "      <th>0</th>\n",
       "      <td>7420</td>\n",
       "      <td>4</td>\n",
       "      <td>2</td>\n",
       "      <td>3</td>\n",
       "      <td>yes</td>\n",
       "      <td>no</td>\n",
       "      <td>no</td>\n",
       "      <td>no</td>\n",
       "      <td>yes</td>\n",
       "      <td>2</td>\n",
       "      <td>yes</td>\n",
       "      <td>furnished</td>\n",
       "      <td>13300000</td>\n",
       "    </tr>\n",
       "    <tr>\n",
       "      <th>1</th>\n",
       "      <td>8960</td>\n",
       "      <td>4</td>\n",
       "      <td>4</td>\n",
       "      <td>4</td>\n",
       "      <td>yes</td>\n",
       "      <td>no</td>\n",
       "      <td>no</td>\n",
       "      <td>no</td>\n",
       "      <td>yes</td>\n",
       "      <td>3</td>\n",
       "      <td>no</td>\n",
       "      <td>furnished</td>\n",
       "      <td>12250000</td>\n",
       "    </tr>\n",
       "    <tr>\n",
       "      <th>2</th>\n",
       "      <td>9960</td>\n",
       "      <td>3</td>\n",
       "      <td>2</td>\n",
       "      <td>2</td>\n",
       "      <td>yes</td>\n",
       "      <td>no</td>\n",
       "      <td>yes</td>\n",
       "      <td>no</td>\n",
       "      <td>no</td>\n",
       "      <td>2</td>\n",
       "      <td>yes</td>\n",
       "      <td>semi-furnished</td>\n",
       "      <td>12250000</td>\n",
       "    </tr>\n",
       "    <tr>\n",
       "      <th>3</th>\n",
       "      <td>7500</td>\n",
       "      <td>4</td>\n",
       "      <td>2</td>\n",
       "      <td>2</td>\n",
       "      <td>yes</td>\n",
       "      <td>no</td>\n",
       "      <td>yes</td>\n",
       "      <td>no</td>\n",
       "      <td>yes</td>\n",
       "      <td>3</td>\n",
       "      <td>yes</td>\n",
       "      <td>furnished</td>\n",
       "      <td>12215000</td>\n",
       "    </tr>\n",
       "    <tr>\n",
       "      <th>4</th>\n",
       "      <td>7420</td>\n",
       "      <td>4</td>\n",
       "      <td>1</td>\n",
       "      <td>2</td>\n",
       "      <td>yes</td>\n",
       "      <td>yes</td>\n",
       "      <td>yes</td>\n",
       "      <td>no</td>\n",
       "      <td>yes</td>\n",
       "      <td>2</td>\n",
       "      <td>no</td>\n",
       "      <td>furnished</td>\n",
       "      <td>11410000</td>\n",
       "    </tr>\n",
       "  </tbody>\n",
       "</table>\n",
       "</div>"
      ],
      "text/plain": [
       "   area  bedrooms  bathrooms  stories mainroad guestroom basement  \\\n",
       "0  7420         4          2        3      yes        no       no   \n",
       "1  8960         4          4        4      yes        no       no   \n",
       "2  9960         3          2        2      yes        no      yes   \n",
       "3  7500         4          2        2      yes        no      yes   \n",
       "4  7420         4          1        2      yes       yes      yes   \n",
       "\n",
       "  hotwaterheating airconditioning  parking prefarea furnishingstatus     price  \n",
       "0              no             yes        2      yes        furnished  13300000  \n",
       "1              no             yes        3       no        furnished  12250000  \n",
       "2              no              no        2      yes   semi-furnished  12250000  \n",
       "3              no             yes        3      yes        furnished  12215000  \n",
       "4              no             yes        2       no        furnished  11410000  "
      ]
     },
     "execution_count": 5,
     "metadata": {},
     "output_type": "execute_result"
    }
   ],
   "source": [
    "house_data = house_data[[\n",
    "    'area', 'bedrooms', 'bathrooms', 'stories', 'mainroad',\n",
    "       'guestroom', 'basement', 'hotwaterheating', 'airconditioning',\n",
    "       'parking', 'prefarea', 'furnishingstatus','price'\n",
    "]]\n",
    "\n",
    "house_data.head()"
   ]
  },
  {
   "cell_type": "code",
   "execution_count": 6,
   "id": "22da9c76",
   "metadata": {},
   "outputs": [
    {
     "data": {
      "text/plain": [
       "Index(['area', 'bedrooms', 'bathrooms', 'stories', 'parking', 'price'], dtype='object')"
      ]
     },
     "execution_count": 6,
     "metadata": {},
     "output_type": "execute_result"
    }
   ],
   "source": [
    "Numarical_colums = house_data.select_dtypes(include='number').columns\n",
    "Numarical_colums"
   ]
  },
  {
   "cell_type": "code",
   "execution_count": 7,
   "id": "863cf11a",
   "metadata": {},
   "outputs": [
    {
     "data": {
      "text/plain": [
       "Index(['mainroad', 'guestroom', 'basement', 'hotwaterheating',\n",
       "       'airconditioning', 'prefarea', 'furnishingstatus'],\n",
       "      dtype='object')"
      ]
     },
     "execution_count": 7,
     "metadata": {},
     "output_type": "execute_result"
    }
   ],
   "source": [
    "Categorical_colums = house_data.select_dtypes(include='object').columns\n",
    "Categorical_colums"
   ]
  },
  {
   "cell_type": "markdown",
   "id": "e159d507",
   "metadata": {},
   "source": [
    "### Step-3: Starndarize & Encoding for Number and Category"
   ]
  },
  {
   "cell_type": "code",
   "execution_count": 8,
   "id": "326ca2f4",
   "metadata": {},
   "outputs": [
    {
     "data": {
      "application/vnd.microsoft.datawrangler.viewer.v0+json": {
       "columns": [
        {
         "name": "index",
         "rawType": "object",
         "type": "string"
        },
        {
         "name": "0",
         "rawType": "float64",
         "type": "float"
        }
       ],
       "ref": "1c7e5752-4051-4af3-9185-ab259578b9f3",
       "rows": [
        [
         "area",
         "5150.54128440367"
        ],
        [
         "bedrooms",
         "2.9651376146788992"
        ],
        [
         "bathrooms",
         "1.2862385321100918"
        ],
        [
         "stories",
         "1.8055045871559634"
        ],
        [
         "parking",
         "0.6935779816513762"
        ],
        [
         "price",
         "4766729.247706422"
        ]
       ],
       "shape": {
        "columns": 1,
        "rows": 6
       }
      },
      "text/plain": [
       "area         5.150541e+03\n",
       "bedrooms     2.965138e+00\n",
       "bathrooms    1.286239e+00\n",
       "stories      1.805505e+00\n",
       "parking      6.935780e-01\n",
       "price        4.766729e+06\n",
       "dtype: float64"
      ]
     },
     "execution_count": 8,
     "metadata": {},
     "output_type": "execute_result"
    }
   ],
   "source": [
    "Number_mean = house_data[Numarical_colums].mean()\n",
    "Number_mean"
   ]
  },
  {
   "cell_type": "code",
   "execution_count": 9,
   "id": "f45cd368",
   "metadata": {},
   "outputs": [
    {
     "data": {
      "application/vnd.microsoft.datawrangler.viewer.v0+json": {
       "columns": [
        {
         "name": "index",
         "rawType": "object",
         "type": "string"
        },
        {
         "name": "0",
         "rawType": "float64",
         "type": "float"
        }
       ],
       "ref": "5bcd7e64-b822-461d-943b-5ef8d29ca03d",
       "rows": [
        [
         "area",
         "2170.141022508803"
        ],
        [
         "bedrooms",
         "0.7380638605685743"
        ],
        [
         "bathrooms",
         "0.5024696160532146"
        ],
        [
         "stories",
         "0.8674924629255264"
        ],
        [
         "parking",
         "0.8615857504605412"
        ],
        [
         "price",
         "1870439.6156573922"
        ]
       ],
       "shape": {
        "columns": 1,
        "rows": 6
       }
      },
      "text/plain": [
       "area         2.170141e+03\n",
       "bedrooms     7.380639e-01\n",
       "bathrooms    5.024696e-01\n",
       "stories      8.674925e-01\n",
       "parking      8.615858e-01\n",
       "price        1.870440e+06\n",
       "dtype: float64"
      ]
     },
     "execution_count": 9,
     "metadata": {},
     "output_type": "execute_result"
    }
   ],
   "source": [
    "Number_std = house_data[Numarical_colums].std()\n",
    "Number_std"
   ]
  },
  {
   "cell_type": "code",
   "execution_count": 10,
   "id": "d3b284e0",
   "metadata": {},
   "outputs": [
    {
     "data": {
      "application/vnd.microsoft.datawrangler.viewer.v0+json": {
       "columns": [
        {
         "name": "index",
         "rawType": "int64",
         "type": "integer"
        },
        {
         "name": "area",
         "rawType": "float64",
         "type": "float"
        },
        {
         "name": "bedrooms",
         "rawType": "float64",
         "type": "float"
        },
        {
         "name": "bathrooms",
         "rawType": "float64",
         "type": "float"
        },
        {
         "name": "stories",
         "rawType": "float64",
         "type": "float"
        },
        {
         "name": "mainroad",
         "rawType": "object",
         "type": "string"
        },
        {
         "name": "guestroom",
         "rawType": "object",
         "type": "string"
        },
        {
         "name": "basement",
         "rawType": "object",
         "type": "string"
        },
        {
         "name": "hotwaterheating",
         "rawType": "object",
         "type": "string"
        },
        {
         "name": "airconditioning",
         "rawType": "object",
         "type": "string"
        },
        {
         "name": "parking",
         "rawType": "float64",
         "type": "float"
        },
        {
         "name": "prefarea",
         "rawType": "object",
         "type": "string"
        },
        {
         "name": "furnishingstatus",
         "rawType": "object",
         "type": "string"
        },
        {
         "name": "price",
         "rawType": "float64",
         "type": "float"
        }
       ],
       "ref": "cb4730e5-a68a-4a8c-93d8-70f7d77b0a59",
       "rows": [
        [
         "0",
         "1.0457655479793244",
         "1.4021312255065368",
         "1.4205067233643767",
         "1.3769519204993752",
         "yes",
         "no",
         "no",
         "no",
         "yes",
         "1.5162994718172922",
         "yes",
         "furnished",
         "4.562173876591275"
        ],
        [
         "1",
         "1.7553968502896578",
         "1.4021312255065368",
         "5.400846899372526",
         "2.529699688044935",
         "yes",
         "no",
         "no",
         "no",
         "yes",
         "2.6769500506662025",
         "no",
         "furnished",
         "4.000808520976219"
        ],
        [
         "2",
         "2.2161963972444196",
         "0.047234917171319286",
         "1.4205067233643767",
         "0.2242041529538152",
         "yes",
         "no",
         "yes",
         "no",
         "no",
         "1.5162994718172922",
         "yes",
         "semi-furnished",
         "4.000808520976219"
        ],
        [
         "3",
         "1.0826295117357054",
         "1.4021312255065368",
         "1.4205067233643767",
         "0.2242041529538152",
         "yes",
         "no",
         "yes",
         "no",
         "yes",
         "2.6769500506662025",
         "yes",
         "furnished",
         "3.982096342455717"
        ],
        [
         "4",
         "1.0457655479793244",
         "1.4021312255065368",
         "-0.5696633646396986",
         "0.2242041529538152",
         "yes",
         "yes",
         "yes",
         "no",
         "yes",
         "1.5162994718172922",
         "no",
         "furnished",
         "3.5517162364841743"
        ]
       ],
       "shape": {
        "columns": 13,
        "rows": 5
       }
      },
      "text/html": [
       "<div>\n",
       "<style scoped>\n",
       "    .dataframe tbody tr th:only-of-type {\n",
       "        vertical-align: middle;\n",
       "    }\n",
       "\n",
       "    .dataframe tbody tr th {\n",
       "        vertical-align: top;\n",
       "    }\n",
       "\n",
       "    .dataframe thead th {\n",
       "        text-align: right;\n",
       "    }\n",
       "</style>\n",
       "<table border=\"1\" class=\"dataframe\">\n",
       "  <thead>\n",
       "    <tr style=\"text-align: right;\">\n",
       "      <th></th>\n",
       "      <th>area</th>\n",
       "      <th>bedrooms</th>\n",
       "      <th>bathrooms</th>\n",
       "      <th>stories</th>\n",
       "      <th>mainroad</th>\n",
       "      <th>guestroom</th>\n",
       "      <th>basement</th>\n",
       "      <th>hotwaterheating</th>\n",
       "      <th>airconditioning</th>\n",
       "      <th>parking</th>\n",
       "      <th>prefarea</th>\n",
       "      <th>furnishingstatus</th>\n",
       "      <th>price</th>\n",
       "    </tr>\n",
       "  </thead>\n",
       "  <tbody>\n",
       "    <tr>\n",
       "      <th>0</th>\n",
       "      <td>1.045766</td>\n",
       "      <td>1.402131</td>\n",
       "      <td>1.420507</td>\n",
       "      <td>1.376952</td>\n",
       "      <td>yes</td>\n",
       "      <td>no</td>\n",
       "      <td>no</td>\n",
       "      <td>no</td>\n",
       "      <td>yes</td>\n",
       "      <td>1.516299</td>\n",
       "      <td>yes</td>\n",
       "      <td>furnished</td>\n",
       "      <td>4.562174</td>\n",
       "    </tr>\n",
       "    <tr>\n",
       "      <th>1</th>\n",
       "      <td>1.755397</td>\n",
       "      <td>1.402131</td>\n",
       "      <td>5.400847</td>\n",
       "      <td>2.529700</td>\n",
       "      <td>yes</td>\n",
       "      <td>no</td>\n",
       "      <td>no</td>\n",
       "      <td>no</td>\n",
       "      <td>yes</td>\n",
       "      <td>2.676950</td>\n",
       "      <td>no</td>\n",
       "      <td>furnished</td>\n",
       "      <td>4.000809</td>\n",
       "    </tr>\n",
       "    <tr>\n",
       "      <th>2</th>\n",
       "      <td>2.216196</td>\n",
       "      <td>0.047235</td>\n",
       "      <td>1.420507</td>\n",
       "      <td>0.224204</td>\n",
       "      <td>yes</td>\n",
       "      <td>no</td>\n",
       "      <td>yes</td>\n",
       "      <td>no</td>\n",
       "      <td>no</td>\n",
       "      <td>1.516299</td>\n",
       "      <td>yes</td>\n",
       "      <td>semi-furnished</td>\n",
       "      <td>4.000809</td>\n",
       "    </tr>\n",
       "    <tr>\n",
       "      <th>3</th>\n",
       "      <td>1.082630</td>\n",
       "      <td>1.402131</td>\n",
       "      <td>1.420507</td>\n",
       "      <td>0.224204</td>\n",
       "      <td>yes</td>\n",
       "      <td>no</td>\n",
       "      <td>yes</td>\n",
       "      <td>no</td>\n",
       "      <td>yes</td>\n",
       "      <td>2.676950</td>\n",
       "      <td>yes</td>\n",
       "      <td>furnished</td>\n",
       "      <td>3.982096</td>\n",
       "    </tr>\n",
       "    <tr>\n",
       "      <th>4</th>\n",
       "      <td>1.045766</td>\n",
       "      <td>1.402131</td>\n",
       "      <td>-0.569663</td>\n",
       "      <td>0.224204</td>\n",
       "      <td>yes</td>\n",
       "      <td>yes</td>\n",
       "      <td>yes</td>\n",
       "      <td>no</td>\n",
       "      <td>yes</td>\n",
       "      <td>1.516299</td>\n",
       "      <td>no</td>\n",
       "      <td>furnished</td>\n",
       "      <td>3.551716</td>\n",
       "    </tr>\n",
       "  </tbody>\n",
       "</table>\n",
       "</div>"
      ],
      "text/plain": [
       "       area  bedrooms  bathrooms   stories mainroad guestroom basement  \\\n",
       "0  1.045766  1.402131   1.420507  1.376952      yes        no       no   \n",
       "1  1.755397  1.402131   5.400847  2.529700      yes        no       no   \n",
       "2  2.216196  0.047235   1.420507  0.224204      yes        no      yes   \n",
       "3  1.082630  1.402131   1.420507  0.224204      yes        no      yes   \n",
       "4  1.045766  1.402131  -0.569663  0.224204      yes       yes      yes   \n",
       "\n",
       "  hotwaterheating airconditioning   parking prefarea furnishingstatus  \\\n",
       "0              no             yes  1.516299      yes        furnished   \n",
       "1              no             yes  2.676950       no        furnished   \n",
       "2              no              no  1.516299      yes   semi-furnished   \n",
       "3              no             yes  2.676950      yes        furnished   \n",
       "4              no             yes  1.516299       no        furnished   \n",
       "\n",
       "      price  \n",
       "0  4.562174  \n",
       "1  4.000809  \n",
       "2  4.000809  \n",
       "3  3.982096  \n",
       "4  3.551716  "
      ]
     },
     "execution_count": 10,
     "metadata": {},
     "output_type": "execute_result"
    }
   ],
   "source": [
    "house_data[Numarical_colums] = (house_data[Numarical_colums] - Number_mean) / Number_std\n",
    "\n",
    "house_data.head()"
   ]
  },
  {
   "cell_type": "code",
   "execution_count": 11,
   "id": "b70ed0b6",
   "metadata": {},
   "outputs": [
    {
     "data": {
      "application/vnd.microsoft.datawrangler.viewer.v0+json": {
       "columns": [
        {
         "name": "index",
         "rawType": "int64",
         "type": "integer"
        },
        {
         "name": "area",
         "rawType": "float64",
         "type": "float"
        },
        {
         "name": "bedrooms",
         "rawType": "float64",
         "type": "float"
        },
        {
         "name": "bathrooms",
         "rawType": "float64",
         "type": "float"
        },
        {
         "name": "stories",
         "rawType": "float64",
         "type": "float"
        },
        {
         "name": "mainroad",
         "rawType": "int8",
         "type": "integer"
        },
        {
         "name": "guestroom",
         "rawType": "int8",
         "type": "integer"
        },
        {
         "name": "basement",
         "rawType": "int8",
         "type": "integer"
        },
        {
         "name": "hotwaterheating",
         "rawType": "int8",
         "type": "integer"
        },
        {
         "name": "airconditioning",
         "rawType": "int8",
         "type": "integer"
        },
        {
         "name": "parking",
         "rawType": "float64",
         "type": "float"
        },
        {
         "name": "prefarea",
         "rawType": "int8",
         "type": "integer"
        },
        {
         "name": "furnishingstatus",
         "rawType": "int8",
         "type": "integer"
        },
        {
         "name": "price",
         "rawType": "float64",
         "type": "float"
        }
       ],
       "ref": "db9a81ba-ed70-437e-8aee-b669b8f8e2de",
       "rows": [
        [
         "0",
         "1.0457655479793244",
         "1.4021312255065368",
         "1.4205067233643767",
         "1.3769519204993752",
         "1",
         "0",
         "0",
         "0",
         "1",
         "1.5162994718172922",
         "1",
         "0",
         "4.562173876591275"
        ],
        [
         "1",
         "1.7553968502896578",
         "1.4021312255065368",
         "5.400846899372526",
         "2.529699688044935",
         "1",
         "0",
         "0",
         "0",
         "1",
         "2.6769500506662025",
         "0",
         "0",
         "4.000808520976219"
        ],
        [
         "2",
         "2.2161963972444196",
         "0.047234917171319286",
         "1.4205067233643767",
         "0.2242041529538152",
         "1",
         "0",
         "1",
         "0",
         "0",
         "1.5162994718172922",
         "1",
         "1",
         "4.000808520976219"
        ],
        [
         "3",
         "1.0826295117357054",
         "1.4021312255065368",
         "1.4205067233643767",
         "0.2242041529538152",
         "1",
         "0",
         "1",
         "0",
         "1",
         "2.6769500506662025",
         "1",
         "0",
         "3.982096342455717"
        ],
        [
         "4",
         "1.0457655479793244",
         "1.4021312255065368",
         "-0.5696633646396986",
         "0.2242041529538152",
         "1",
         "1",
         "1",
         "0",
         "1",
         "1.5162994718172922",
         "0",
         "0",
         "3.5517162364841743"
        ]
       ],
       "shape": {
        "columns": 13,
        "rows": 5
       }
      },
      "text/html": [
       "<div>\n",
       "<style scoped>\n",
       "    .dataframe tbody tr th:only-of-type {\n",
       "        vertical-align: middle;\n",
       "    }\n",
       "\n",
       "    .dataframe tbody tr th {\n",
       "        vertical-align: top;\n",
       "    }\n",
       "\n",
       "    .dataframe thead th {\n",
       "        text-align: right;\n",
       "    }\n",
       "</style>\n",
       "<table border=\"1\" class=\"dataframe\">\n",
       "  <thead>\n",
       "    <tr style=\"text-align: right;\">\n",
       "      <th></th>\n",
       "      <th>area</th>\n",
       "      <th>bedrooms</th>\n",
       "      <th>bathrooms</th>\n",
       "      <th>stories</th>\n",
       "      <th>mainroad</th>\n",
       "      <th>guestroom</th>\n",
       "      <th>basement</th>\n",
       "      <th>hotwaterheating</th>\n",
       "      <th>airconditioning</th>\n",
       "      <th>parking</th>\n",
       "      <th>prefarea</th>\n",
       "      <th>furnishingstatus</th>\n",
       "      <th>price</th>\n",
       "    </tr>\n",
       "  </thead>\n",
       "  <tbody>\n",
       "    <tr>\n",
       "      <th>0</th>\n",
       "      <td>1.045766</td>\n",
       "      <td>1.402131</td>\n",
       "      <td>1.420507</td>\n",
       "      <td>1.376952</td>\n",
       "      <td>1</td>\n",
       "      <td>0</td>\n",
       "      <td>0</td>\n",
       "      <td>0</td>\n",
       "      <td>1</td>\n",
       "      <td>1.516299</td>\n",
       "      <td>1</td>\n",
       "      <td>0</td>\n",
       "      <td>4.562174</td>\n",
       "    </tr>\n",
       "    <tr>\n",
       "      <th>1</th>\n",
       "      <td>1.755397</td>\n",
       "      <td>1.402131</td>\n",
       "      <td>5.400847</td>\n",
       "      <td>2.529700</td>\n",
       "      <td>1</td>\n",
       "      <td>0</td>\n",
       "      <td>0</td>\n",
       "      <td>0</td>\n",
       "      <td>1</td>\n",
       "      <td>2.676950</td>\n",
       "      <td>0</td>\n",
       "      <td>0</td>\n",
       "      <td>4.000809</td>\n",
       "    </tr>\n",
       "    <tr>\n",
       "      <th>2</th>\n",
       "      <td>2.216196</td>\n",
       "      <td>0.047235</td>\n",
       "      <td>1.420507</td>\n",
       "      <td>0.224204</td>\n",
       "      <td>1</td>\n",
       "      <td>0</td>\n",
       "      <td>1</td>\n",
       "      <td>0</td>\n",
       "      <td>0</td>\n",
       "      <td>1.516299</td>\n",
       "      <td>1</td>\n",
       "      <td>1</td>\n",
       "      <td>4.000809</td>\n",
       "    </tr>\n",
       "    <tr>\n",
       "      <th>3</th>\n",
       "      <td>1.082630</td>\n",
       "      <td>1.402131</td>\n",
       "      <td>1.420507</td>\n",
       "      <td>0.224204</td>\n",
       "      <td>1</td>\n",
       "      <td>0</td>\n",
       "      <td>1</td>\n",
       "      <td>0</td>\n",
       "      <td>1</td>\n",
       "      <td>2.676950</td>\n",
       "      <td>1</td>\n",
       "      <td>0</td>\n",
       "      <td>3.982096</td>\n",
       "    </tr>\n",
       "    <tr>\n",
       "      <th>4</th>\n",
       "      <td>1.045766</td>\n",
       "      <td>1.402131</td>\n",
       "      <td>-0.569663</td>\n",
       "      <td>0.224204</td>\n",
       "      <td>1</td>\n",
       "      <td>1</td>\n",
       "      <td>1</td>\n",
       "      <td>0</td>\n",
       "      <td>1</td>\n",
       "      <td>1.516299</td>\n",
       "      <td>0</td>\n",
       "      <td>0</td>\n",
       "      <td>3.551716</td>\n",
       "    </tr>\n",
       "  </tbody>\n",
       "</table>\n",
       "</div>"
      ],
      "text/plain": [
       "       area  bedrooms  bathrooms   stories  mainroad  guestroom  basement  \\\n",
       "0  1.045766  1.402131   1.420507  1.376952         1          0         0   \n",
       "1  1.755397  1.402131   5.400847  2.529700         1          0         0   \n",
       "2  2.216196  0.047235   1.420507  0.224204         1          0         1   \n",
       "3  1.082630  1.402131   1.420507  0.224204         1          0         1   \n",
       "4  1.045766  1.402131  -0.569663  0.224204         1          1         1   \n",
       "\n",
       "   hotwaterheating  airconditioning   parking  prefarea  furnishingstatus  \\\n",
       "0                0                1  1.516299         1                 0   \n",
       "1                0                1  2.676950         0                 0   \n",
       "2                0                0  1.516299         1                 1   \n",
       "3                0                1  2.676950         1                 0   \n",
       "4                0                1  1.516299         0                 0   \n",
       "\n",
       "      price  \n",
       "0  4.562174  \n",
       "1  4.000809  \n",
       "2  4.000809  \n",
       "3  3.982096  \n",
       "4  3.551716  "
      ]
     },
     "execution_count": 11,
     "metadata": {},
     "output_type": "execute_result"
    }
   ],
   "source": [
    "house_data[Categorical_colums] = house_data[Categorical_colums].apply(\n",
    "    lambda colum : pd.Categorical(colum).codes\n",
    ")\n",
    "\n",
    "house_data.head()"
   ]
  },
  {
   "cell_type": "markdown",
   "id": "a7b5af69",
   "metadata": {},
   "source": [
    "### Step-4: Split dataset by train, test & validation"
   ]
  },
  {
   "cell_type": "code",
   "execution_count": 12,
   "id": "569c373b",
   "metadata": {},
   "outputs": [],
   "source": [
    "seed =50\n",
    "np.random.seed(seed)\n"
   ]
  },
  {
   "cell_type": "code",
   "execution_count": 13,
   "id": "14e3ed66",
   "metadata": {},
   "outputs": [],
   "source": [
    "def split_dataset(House_Dataset, Train_ratio=0.6, Test_Val_ratio=0.2):\n",
    "    length_dataset = len(House_Dataset)\n",
    "    select_data = np.random.permutation(length_dataset)\n",
    "\n",
    "    Train_set = int(length_dataset * Train_ratio)\n",
    "    Val_set = int(length_dataset * Test_Val_ratio)\n",
    "\n",
    "    Train_indices = select_data[:Train_set]\n",
    "    Val_indices = select_data[Train_set:Val_set + Train_set]\n",
    "    Test_indices = select_data[Train_set + Val_set:]\n",
    "\n",
    "\n",
    "    Train_ds = House_Dataset.iloc[Train_indices]\n",
    "    Val_ds = House_Dataset.iloc[Val_indices]\n",
    "    Test_ds = House_Dataset.iloc[Test_indices]\n",
    "\n",
    "    Train_X = Train_ds.iloc[:,:-1]\n",
    "    Train_Y = Train_ds.iloc[:,:-1]\n",
    "\n",
    "    Val_X = Val_ds.iloc[:,:-1]\n",
    "    Val_Y = Val_ds.iloc[:,:-1]\n",
    "\n",
    "\n",
    "    Test_X = Test_ds.iloc[:,:-1]\n",
    "    Test_Y = Test_ds.iloc[:,:-1]\n",
    "\n",
    "    return Train_X, Train_Y, Val_X, Val_Y, Test_X, Test_Y\n",
    "\n",
    "Train_X, Train_Y, Val_X, Val_Y, Test_Y, Test_X = split_dataset(house_data)"
   ]
  },
  {
   "cell_type": "code",
   "execution_count": 14,
   "id": "180eadca",
   "metadata": {},
   "outputs": [
    {
     "name": "stdout",
     "output_type": "stream",
     "text": [
      "327\n",
      "109\n",
      "109\n"
     ]
    }
   ],
   "source": [
    "print(len(Train_X))\n",
    "print(len(Val_X))\n",
    "print(len(Test_X))"
   ]
  },
  {
   "cell_type": "markdown",
   "id": "019ec9a8",
   "metadata": {},
   "source": [
    "### Step-5: Randomly initialize perameters"
   ]
  },
  {
   "cell_type": "code",
   "execution_count": 15,
   "id": "8358d5c0",
   "metadata": {},
   "outputs": [
    {
     "data": {
      "text/plain": [
       "(array([176, 114, 144, 139, 143, 170, 196, 120, 140, 101, 155, 116],\n",
       "       dtype=int32),\n",
       " 186)"
      ]
     },
     "execution_count": 15,
     "metadata": {},
     "output_type": "execute_result"
    }
   ],
   "source": [
    "w = np.random.randint(100,200, Train_X.columns.size)\n",
    "b = np.random.randint(100,200)\n",
    "\n",
    "w,b"
   ]
  },
  {
   "cell_type": "code",
   "execution_count": 16,
   "id": "7c7bff1d",
   "metadata": {},
   "outputs": [],
   "source": [
    "def perdict_house_price(x,w,b):\n",
    "    y_predict = np.dot(x,b) + b\n",
    "    return y_predict\n",
    "\n"
   ]
  },
  {
   "cell_type": "markdown",
   "id": "d95a8724",
   "metadata": {},
   "source": [
    "### Step-6: Calculate cost/loss of dataset"
   ]
  },
  {
   "cell_type": "code",
   "execution_count": 17,
   "id": "42451590",
   "metadata": {},
   "outputs": [
    {
     "data": {
      "text/plain": [
       "np.float64(77864.87810406693)"
      ]
     },
     "execution_count": 17,
     "metadata": {},
     "output_type": "execute_result"
    }
   ],
   "source": [
    "def cost_function(X, y_true, w, b):\n",
    "    y_predict = perdict_house_price(X,w,b)\n",
    "    mse = np.mean((y_true - y_predict)**2)\n",
    "    return mse\n",
    "\n",
    "\n",
    "mse = cost_function(Train_X, Train_Y, w, b)\n",
    "\n",
    "mse"
   ]
  },
  {
   "cell_type": "markdown",
   "id": "58ac238e",
   "metadata": {},
   "source": [
    "### Step-7: Gradeint Descent\n"
   ]
  },
  {
   "cell_type": "code",
   "execution_count": 18,
   "id": "f510721b",
   "metadata": {},
   "outputs": [],
   "source": [
    "def gradeint_descent(X, x_true, w, b):\n",
    "    delta = 1e-9\n",
    "\n",
    "    cost1 = cost_function(X, x_true, w, b)\n",
    "    cost2 = cost_function(X, x_true, w+delta, b)\n",
    "    cost3 = cost_function(X,x_true,w, b+delta)\n",
    "\n",
    "    dw = (cost2 - cost1) / delta\n",
    "    db = (cost3 - cost1) / delta\n",
    "\n",
    "    return dw, db"
   ]
  },
  {
   "cell_type": "code",
   "execution_count": 19,
   "id": "59ce7d2d",
   "metadata": {},
   "outputs": [
    {
     "name": "stdout",
     "output_type": "stream",
     "text": [
      "Epoch=0 / 20000 loss = 77864.878, Validation loss = 73947.451\n",
      "Epoch=1000 / 20000 loss = 31507.310, Validation loss = 29924.668\n",
      "Epoch=2000 / 20000 loss = 12749.104, Validation loss = 12110.304\n",
      "Epoch=3000 / 20000 loss = 5158.919, Validation loss = 4901.451\n",
      "Epoch=4000 / 20000 loss = 2087.664, Validation loss = 1984.128\n",
      "Epoch=5000 / 20000 loss = 844.919, Validation loss = 803.435\n",
      "Epoch=6000 / 20000 loss = 342.060, Validation loss = 325.536\n",
      "Epoch=7000 / 20000 loss = 138.585, Validation loss = 132.067\n",
      "Epoch=8000 / 20000 loss = 56.252, Validation loss = 53.722\n",
      "Epoch=9000 / 20000 loss = 22.937, Validation loss = 21.982\n",
      "Epoch=10000 / 20000 loss = 9.457, Validation loss = 9.115\n",
      "Epoch=11000 / 20000 loss = 4.002, Validation loss = 3.893\n",
      "Epoch=12000 / 20000 loss = 1.795, Validation loss = 1.770\n",
      "Epoch=13000 / 20000 loss = 0.902, Validation loss = 0.905\n",
      "Epoch=14000 / 20000 loss = 0.541, Validation loss = 0.551\n",
      "Epoch=15000 / 20000 loss = 0.394, Validation loss = 0.405\n",
      "Epoch=16000 / 20000 loss = 0.335, Validation loss = 0.344\n",
      "Epoch=17000 / 20000 loss = 0.311, Validation loss = 0.319\n",
      "Epoch=18000 / 20000 loss = 0.302, Validation loss = 0.308\n",
      "Epoch=19000 / 20000 loss = 0.298, Validation loss = 0.303\n"
     ]
    }
   ],
   "source": [
    "epochs = 20000\n",
    "learning_rate=0.0001\n",
    "\n",
    "for epoch in range(epochs):\n",
    "    loss = cost_function(Train_X, Train_Y, w, b)\n",
    "    valid_loss = cost_function(Val_X, Val_Y, w, b)\n",
    "\n",
    "    dw, db = gradeint_descent(Train_X, Train_Y, w, b)\n",
    "\n",
    "    w = w - learning_rate*dw\n",
    "    b = b - learning_rate*db\n",
    "\n",
    "    if epoch % 1000 == 0:\n",
    "        print(f'Epoch={epoch} / {epochs} loss = {loss:0.3f}, Validation loss = {valid_loss:0.3f}')"
   ]
  },
  {
   "cell_type": "code",
   "execution_count": 21,
   "id": "da3f0d2c",
   "metadata": {},
   "outputs": [
    {
     "name": "stdout",
     "output_type": "stream",
     "text": [
      "[176. 114. 144. 139. 143. 170. 196. 120. 140. 101. 155. 116.]\n",
      "0.4635270357294399\n"
     ]
    }
   ],
   "source": [
    "print(w)\n",
    "print(b)"
   ]
  }
 ],
 "metadata": {
  "kernelspec": {
   "display_name": "Python 3",
   "language": "python",
   "name": "python3"
  },
  "language_info": {
   "codemirror_mode": {
    "name": "ipython",
    "version": 3
   },
   "file_extension": ".py",
   "mimetype": "text/x-python",
   "name": "python",
   "nbconvert_exporter": "python",
   "pygments_lexer": "ipython3",
   "version": "3.12.3"
  }
 },
 "nbformat": 4,
 "nbformat_minor": 5
}
