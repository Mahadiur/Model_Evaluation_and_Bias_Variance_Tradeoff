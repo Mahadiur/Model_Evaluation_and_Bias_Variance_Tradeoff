{
 "cells": [
  {
   "cell_type": "markdown",
   "id": "d51f6882",
   "metadata": {},
   "source": [
    "### Model Evaluation and Bias Variance Tradeoff"
   ]
  },
  {
   "cell_type": "code",
   "execution_count": 5,
   "id": "b128178b",
   "metadata": {},
   "outputs": [],
   "source": [
    "import numpy as np\n",
    "import pandas as pd\n",
    "import os\n",
    "import matplotlib.pyplot as plt\n"
   ]
  }
 ],
 "metadata": {
  "kernelspec": {
   "display_name": "Python 3",
   "language": "python",
   "name": "python3"
  },
  "language_info": {
   "codemirror_mode": {
    "name": "ipython",
    "version": 3
   },
   "file_extension": ".py",
   "mimetype": "text/x-python",
   "name": "python",
   "nbconvert_exporter": "python",
   "pygments_lexer": "ipython3",
   "version": "3.12.3"
  }
 },
 "nbformat": 4,
 "nbformat_minor": 5
}
