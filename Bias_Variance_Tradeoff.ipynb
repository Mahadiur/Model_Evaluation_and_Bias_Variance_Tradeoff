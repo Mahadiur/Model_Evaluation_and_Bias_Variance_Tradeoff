{
 "cells": [
  {
   "cell_type": "markdown",
   "id": "d51f6882",
   "metadata": {},
   "source": [
    "### Model Evaluation and Bias Variance Tradeoff"
   ]
  },
  {
   "cell_type": "code",
   "execution_count": 332,
   "id": "b128178b",
   "metadata": {},
   "outputs": [],
   "source": [
    "import numpy as np\n",
    "import pandas as pd\n",
    "import os\n",
    "import matplotlib.pyplot as plt\n"
   ]
  },
  {
   "cell_type": "markdown",
   "id": "65e67bc4",
   "metadata": {},
   "source": [
    "### Step-1: Load Dataset"
   ]
  },
  {
   "cell_type": "code",
   "execution_count": 333,
   "id": "f71b32ce",
   "metadata": {},
   "outputs": [
    {
     "data": {
      "text/html": [
       "<div>\n",
       "<style scoped>\n",
       "    .dataframe tbody tr th:only-of-type {\n",
       "        vertical-align: middle;\n",
       "    }\n",
       "\n",
       "    .dataframe tbody tr th {\n",
       "        vertical-align: top;\n",
       "    }\n",
       "\n",
       "    .dataframe thead th {\n",
       "        text-align: right;\n",
       "    }\n",
       "</style>\n",
       "<table border=\"1\" class=\"dataframe\">\n",
       "  <thead>\n",
       "    <tr style=\"text-align: right;\">\n",
       "      <th></th>\n",
       "      <th>price</th>\n",
       "      <th>area</th>\n",
       "      <th>bedrooms</th>\n",
       "      <th>bathrooms</th>\n",
       "      <th>stories</th>\n",
       "      <th>mainroad</th>\n",
       "      <th>guestroom</th>\n",
       "      <th>basement</th>\n",
       "      <th>hotwaterheating</th>\n",
       "      <th>airconditioning</th>\n",
       "      <th>parking</th>\n",
       "      <th>prefarea</th>\n",
       "      <th>furnishingstatus</th>\n",
       "    </tr>\n",
       "  </thead>\n",
       "  <tbody>\n",
       "    <tr>\n",
       "      <th>0</th>\n",
       "      <td>13300000</td>\n",
       "      <td>7420</td>\n",
       "      <td>4</td>\n",
       "      <td>2</td>\n",
       "      <td>3</td>\n",
       "      <td>yes</td>\n",
       "      <td>no</td>\n",
       "      <td>no</td>\n",
       "      <td>no</td>\n",
       "      <td>yes</td>\n",
       "      <td>2</td>\n",
       "      <td>yes</td>\n",
       "      <td>furnished</td>\n",
       "    </tr>\n",
       "    <tr>\n",
       "      <th>1</th>\n",
       "      <td>12250000</td>\n",
       "      <td>8960</td>\n",
       "      <td>4</td>\n",
       "      <td>4</td>\n",
       "      <td>4</td>\n",
       "      <td>yes</td>\n",
       "      <td>no</td>\n",
       "      <td>no</td>\n",
       "      <td>no</td>\n",
       "      <td>yes</td>\n",
       "      <td>3</td>\n",
       "      <td>no</td>\n",
       "      <td>furnished</td>\n",
       "    </tr>\n",
       "    <tr>\n",
       "      <th>2</th>\n",
       "      <td>12250000</td>\n",
       "      <td>9960</td>\n",
       "      <td>3</td>\n",
       "      <td>2</td>\n",
       "      <td>2</td>\n",
       "      <td>yes</td>\n",
       "      <td>no</td>\n",
       "      <td>yes</td>\n",
       "      <td>no</td>\n",
       "      <td>no</td>\n",
       "      <td>2</td>\n",
       "      <td>yes</td>\n",
       "      <td>semi-furnished</td>\n",
       "    </tr>\n",
       "    <tr>\n",
       "      <th>3</th>\n",
       "      <td>12215000</td>\n",
       "      <td>7500</td>\n",
       "      <td>4</td>\n",
       "      <td>2</td>\n",
       "      <td>2</td>\n",
       "      <td>yes</td>\n",
       "      <td>no</td>\n",
       "      <td>yes</td>\n",
       "      <td>no</td>\n",
       "      <td>yes</td>\n",
       "      <td>3</td>\n",
       "      <td>yes</td>\n",
       "      <td>furnished</td>\n",
       "    </tr>\n",
       "    <tr>\n",
       "      <th>4</th>\n",
       "      <td>11410000</td>\n",
       "      <td>7420</td>\n",
       "      <td>4</td>\n",
       "      <td>1</td>\n",
       "      <td>2</td>\n",
       "      <td>yes</td>\n",
       "      <td>yes</td>\n",
       "      <td>yes</td>\n",
       "      <td>no</td>\n",
       "      <td>yes</td>\n",
       "      <td>2</td>\n",
       "      <td>no</td>\n",
       "      <td>furnished</td>\n",
       "    </tr>\n",
       "  </tbody>\n",
       "</table>\n",
       "</div>"
      ],
      "text/plain": [
       "      price  area  bedrooms  bathrooms  stories mainroad guestroom basement  \\\n",
       "0  13300000  7420         4          2        3      yes        no       no   \n",
       "1  12250000  8960         4          4        4      yes        no       no   \n",
       "2  12250000  9960         3          2        2      yes        no      yes   \n",
       "3  12215000  7500         4          2        2      yes        no      yes   \n",
       "4  11410000  7420         4          1        2      yes       yes      yes   \n",
       "\n",
       "  hotwaterheating airconditioning  parking prefarea furnishingstatus  \n",
       "0              no             yes        2      yes        furnished  \n",
       "1              no             yes        3       no        furnished  \n",
       "2              no              no        2      yes   semi-furnished  \n",
       "3              no             yes        3      yes        furnished  \n",
       "4              no             yes        2       no        furnished  "
      ]
     },
     "execution_count": 333,
     "metadata": {},
     "output_type": "execute_result"
    }
   ],
   "source": [
    "Root_path = 'C:\\\\Users\\\\mdmes\\\\OneDrive\\\\Desktop\\\\Pandas Data'\n",
    "dataset_path = os.path.join(Root_path, 'housing_data.csv')\n",
    "\n",
    "house_data = pd.read_csv(\n",
    "    dataset_path\n",
    ")\n",
    "\n",
    "house_data.head()"
   ]
  },
  {
   "cell_type": "markdown",
   "id": "94500225",
   "metadata": {},
   "source": [
    "### Step-2: Clean data and Separate Number and Category colum"
   ]
  },
  {
   "cell_type": "code",
   "execution_count": 334,
   "id": "46268f02",
   "metadata": {},
   "outputs": [
    {
     "name": "stdout",
     "output_type": "stream",
     "text": [
      "<class 'pandas.core.frame.DataFrame'>\n",
      "RangeIndex: 545 entries, 0 to 544\n",
      "Data columns (total 13 columns):\n",
      " #   Column            Non-Null Count  Dtype \n",
      "---  ------            --------------  ----- \n",
      " 0   price             545 non-null    int64 \n",
      " 1   area              545 non-null    int64 \n",
      " 2   bedrooms          545 non-null    int64 \n",
      " 3   bathrooms         545 non-null    int64 \n",
      " 4   stories           545 non-null    int64 \n",
      " 5   mainroad          545 non-null    object\n",
      " 6   guestroom         545 non-null    object\n",
      " 7   basement          545 non-null    object\n",
      " 8   hotwaterheating   545 non-null    object\n",
      " 9   airconditioning   545 non-null    object\n",
      " 10  parking           545 non-null    int64 \n",
      " 11  prefarea          545 non-null    object\n",
      " 12  furnishingstatus  545 non-null    object\n",
      "dtypes: int64(6), object(7)\n",
      "memory usage: 55.5+ KB\n"
     ]
    }
   ],
   "source": [
    "house_data.info()"
   ]
  },
  {
   "cell_type": "code",
   "execution_count": 335,
   "id": "b0a16adb",
   "metadata": {},
   "outputs": [
    {
     "data": {
      "text/plain": [
       "Index(['price', 'area', 'bedrooms', 'bathrooms', 'stories', 'mainroad',\n",
       "       'guestroom', 'basement', 'hotwaterheating', 'airconditioning',\n",
       "       'parking', 'prefarea', 'furnishingstatus'],\n",
       "      dtype='object')"
      ]
     },
     "execution_count": 335,
     "metadata": {},
     "output_type": "execute_result"
    }
   ],
   "source": [
    "house_data.columns"
   ]
  },
  {
   "cell_type": "code",
   "execution_count": 336,
   "id": "e1c244da",
   "metadata": {},
   "outputs": [
    {
     "data": {
      "text/html": [
       "<div>\n",
       "<style scoped>\n",
       "    .dataframe tbody tr th:only-of-type {\n",
       "        vertical-align: middle;\n",
       "    }\n",
       "\n",
       "    .dataframe tbody tr th {\n",
       "        vertical-align: top;\n",
       "    }\n",
       "\n",
       "    .dataframe thead th {\n",
       "        text-align: right;\n",
       "    }\n",
       "</style>\n",
       "<table border=\"1\" class=\"dataframe\">\n",
       "  <thead>\n",
       "    <tr style=\"text-align: right;\">\n",
       "      <th></th>\n",
       "      <th>area</th>\n",
       "      <th>bedrooms</th>\n",
       "      <th>bathrooms</th>\n",
       "      <th>stories</th>\n",
       "      <th>mainroad</th>\n",
       "      <th>guestroom</th>\n",
       "      <th>basement</th>\n",
       "      <th>hotwaterheating</th>\n",
       "      <th>airconditioning</th>\n",
       "      <th>parking</th>\n",
       "      <th>prefarea</th>\n",
       "      <th>furnishingstatus</th>\n",
       "      <th>price</th>\n",
       "    </tr>\n",
       "  </thead>\n",
       "  <tbody>\n",
       "    <tr>\n",
       "      <th>0</th>\n",
       "      <td>7420</td>\n",
       "      <td>4</td>\n",
       "      <td>2</td>\n",
       "      <td>3</td>\n",
       "      <td>yes</td>\n",
       "      <td>no</td>\n",
       "      <td>no</td>\n",
       "      <td>no</td>\n",
       "      <td>yes</td>\n",
       "      <td>2</td>\n",
       "      <td>yes</td>\n",
       "      <td>furnished</td>\n",
       "      <td>13300000</td>\n",
       "    </tr>\n",
       "    <tr>\n",
       "      <th>1</th>\n",
       "      <td>8960</td>\n",
       "      <td>4</td>\n",
       "      <td>4</td>\n",
       "      <td>4</td>\n",
       "      <td>yes</td>\n",
       "      <td>no</td>\n",
       "      <td>no</td>\n",
       "      <td>no</td>\n",
       "      <td>yes</td>\n",
       "      <td>3</td>\n",
       "      <td>no</td>\n",
       "      <td>furnished</td>\n",
       "      <td>12250000</td>\n",
       "    </tr>\n",
       "    <tr>\n",
       "      <th>2</th>\n",
       "      <td>9960</td>\n",
       "      <td>3</td>\n",
       "      <td>2</td>\n",
       "      <td>2</td>\n",
       "      <td>yes</td>\n",
       "      <td>no</td>\n",
       "      <td>yes</td>\n",
       "      <td>no</td>\n",
       "      <td>no</td>\n",
       "      <td>2</td>\n",
       "      <td>yes</td>\n",
       "      <td>semi-furnished</td>\n",
       "      <td>12250000</td>\n",
       "    </tr>\n",
       "    <tr>\n",
       "      <th>3</th>\n",
       "      <td>7500</td>\n",
       "      <td>4</td>\n",
       "      <td>2</td>\n",
       "      <td>2</td>\n",
       "      <td>yes</td>\n",
       "      <td>no</td>\n",
       "      <td>yes</td>\n",
       "      <td>no</td>\n",
       "      <td>yes</td>\n",
       "      <td>3</td>\n",
       "      <td>yes</td>\n",
       "      <td>furnished</td>\n",
       "      <td>12215000</td>\n",
       "    </tr>\n",
       "    <tr>\n",
       "      <th>4</th>\n",
       "      <td>7420</td>\n",
       "      <td>4</td>\n",
       "      <td>1</td>\n",
       "      <td>2</td>\n",
       "      <td>yes</td>\n",
       "      <td>yes</td>\n",
       "      <td>yes</td>\n",
       "      <td>no</td>\n",
       "      <td>yes</td>\n",
       "      <td>2</td>\n",
       "      <td>no</td>\n",
       "      <td>furnished</td>\n",
       "      <td>11410000</td>\n",
       "    </tr>\n",
       "  </tbody>\n",
       "</table>\n",
       "</div>"
      ],
      "text/plain": [
       "   area  bedrooms  bathrooms  stories mainroad guestroom basement  \\\n",
       "0  7420         4          2        3      yes        no       no   \n",
       "1  8960         4          4        4      yes        no       no   \n",
       "2  9960         3          2        2      yes        no      yes   \n",
       "3  7500         4          2        2      yes        no      yes   \n",
       "4  7420         4          1        2      yes       yes      yes   \n",
       "\n",
       "  hotwaterheating airconditioning  parking prefarea furnishingstatus     price  \n",
       "0              no             yes        2      yes        furnished  13300000  \n",
       "1              no             yes        3       no        furnished  12250000  \n",
       "2              no              no        2      yes   semi-furnished  12250000  \n",
       "3              no             yes        3      yes        furnished  12215000  \n",
       "4              no             yes        2       no        furnished  11410000  "
      ]
     },
     "execution_count": 336,
     "metadata": {},
     "output_type": "execute_result"
    }
   ],
   "source": [
    "house_data = house_data[[\n",
    "    'area', 'bedrooms', 'bathrooms', 'stories', 'mainroad',\n",
    "       'guestroom', 'basement', 'hotwaterheating', 'airconditioning',\n",
    "       'parking', 'prefarea', 'furnishingstatus','price'\n",
    "]]\n",
    "\n",
    "house_data.head()"
   ]
  },
  {
   "cell_type": "code",
   "execution_count": 337,
   "id": "22da9c76",
   "metadata": {},
   "outputs": [
    {
     "data": {
      "text/plain": [
       "Index(['area', 'bedrooms', 'bathrooms', 'stories', 'parking', 'price'], dtype='object')"
      ]
     },
     "execution_count": 337,
     "metadata": {},
     "output_type": "execute_result"
    }
   ],
   "source": [
    "Numarical_colums = house_data.select_dtypes(include='number').columns\n",
    "Numarical_colums"
   ]
  },
  {
   "cell_type": "code",
   "execution_count": 338,
   "id": "863cf11a",
   "metadata": {},
   "outputs": [
    {
     "data": {
      "text/plain": [
       "Index(['mainroad', 'guestroom', 'basement', 'hotwaterheating',\n",
       "       'airconditioning', 'prefarea', 'furnishingstatus'],\n",
       "      dtype='object')"
      ]
     },
     "execution_count": 338,
     "metadata": {},
     "output_type": "execute_result"
    }
   ],
   "source": [
    "Categorical_colums = house_data.select_dtypes(include='object').columns\n",
    "Categorical_colums"
   ]
  },
  {
   "cell_type": "markdown",
   "id": "e159d507",
   "metadata": {},
   "source": [
    "### Step-3: Starndarize & Encoding for Number and Category"
   ]
  },
  {
   "cell_type": "code",
   "execution_count": 339,
   "id": "326ca2f4",
   "metadata": {},
   "outputs": [
    {
     "data": {
      "text/plain": [
       "area         5.150541e+03\n",
       "bedrooms     2.965138e+00\n",
       "bathrooms    1.286239e+00\n",
       "stories      1.805505e+00\n",
       "parking      6.935780e-01\n",
       "price        4.766729e+06\n",
       "dtype: float64"
      ]
     },
     "execution_count": 339,
     "metadata": {},
     "output_type": "execute_result"
    }
   ],
   "source": [
    "Number_mean = house_data[Numarical_colums].mean()\n",
    "Number_mean"
   ]
  },
  {
   "cell_type": "code",
   "execution_count": 340,
   "id": "f45cd368",
   "metadata": {},
   "outputs": [
    {
     "data": {
      "text/plain": [
       "area         2.170141e+03\n",
       "bedrooms     7.380639e-01\n",
       "bathrooms    5.024696e-01\n",
       "stories      8.674925e-01\n",
       "parking      8.615858e-01\n",
       "price        1.870440e+06\n",
       "dtype: float64"
      ]
     },
     "execution_count": 340,
     "metadata": {},
     "output_type": "execute_result"
    }
   ],
   "source": [
    "Number_std = house_data[Numarical_colums].std()\n",
    "Number_std"
   ]
  },
  {
   "cell_type": "code",
   "execution_count": 341,
   "id": "d3b284e0",
   "metadata": {},
   "outputs": [
    {
     "data": {
      "text/html": [
       "<div>\n",
       "<style scoped>\n",
       "    .dataframe tbody tr th:only-of-type {\n",
       "        vertical-align: middle;\n",
       "    }\n",
       "\n",
       "    .dataframe tbody tr th {\n",
       "        vertical-align: top;\n",
       "    }\n",
       "\n",
       "    .dataframe thead th {\n",
       "        text-align: right;\n",
       "    }\n",
       "</style>\n",
       "<table border=\"1\" class=\"dataframe\">\n",
       "  <thead>\n",
       "    <tr style=\"text-align: right;\">\n",
       "      <th></th>\n",
       "      <th>area</th>\n",
       "      <th>bedrooms</th>\n",
       "      <th>bathrooms</th>\n",
       "      <th>stories</th>\n",
       "      <th>mainroad</th>\n",
       "      <th>guestroom</th>\n",
       "      <th>basement</th>\n",
       "      <th>hotwaterheating</th>\n",
       "      <th>airconditioning</th>\n",
       "      <th>parking</th>\n",
       "      <th>prefarea</th>\n",
       "      <th>furnishingstatus</th>\n",
       "      <th>price</th>\n",
       "    </tr>\n",
       "  </thead>\n",
       "  <tbody>\n",
       "    <tr>\n",
       "      <th>0</th>\n",
       "      <td>1.045766</td>\n",
       "      <td>1.402131</td>\n",
       "      <td>1.420507</td>\n",
       "      <td>1.376952</td>\n",
       "      <td>yes</td>\n",
       "      <td>no</td>\n",
       "      <td>no</td>\n",
       "      <td>no</td>\n",
       "      <td>yes</td>\n",
       "      <td>1.516299</td>\n",
       "      <td>yes</td>\n",
       "      <td>furnished</td>\n",
       "      <td>4.562174</td>\n",
       "    </tr>\n",
       "    <tr>\n",
       "      <th>1</th>\n",
       "      <td>1.755397</td>\n",
       "      <td>1.402131</td>\n",
       "      <td>5.400847</td>\n",
       "      <td>2.529700</td>\n",
       "      <td>yes</td>\n",
       "      <td>no</td>\n",
       "      <td>no</td>\n",
       "      <td>no</td>\n",
       "      <td>yes</td>\n",
       "      <td>2.676950</td>\n",
       "      <td>no</td>\n",
       "      <td>furnished</td>\n",
       "      <td>4.000809</td>\n",
       "    </tr>\n",
       "    <tr>\n",
       "      <th>2</th>\n",
       "      <td>2.216196</td>\n",
       "      <td>0.047235</td>\n",
       "      <td>1.420507</td>\n",
       "      <td>0.224204</td>\n",
       "      <td>yes</td>\n",
       "      <td>no</td>\n",
       "      <td>yes</td>\n",
       "      <td>no</td>\n",
       "      <td>no</td>\n",
       "      <td>1.516299</td>\n",
       "      <td>yes</td>\n",
       "      <td>semi-furnished</td>\n",
       "      <td>4.000809</td>\n",
       "    </tr>\n",
       "    <tr>\n",
       "      <th>3</th>\n",
       "      <td>1.082630</td>\n",
       "      <td>1.402131</td>\n",
       "      <td>1.420507</td>\n",
       "      <td>0.224204</td>\n",
       "      <td>yes</td>\n",
       "      <td>no</td>\n",
       "      <td>yes</td>\n",
       "      <td>no</td>\n",
       "      <td>yes</td>\n",
       "      <td>2.676950</td>\n",
       "      <td>yes</td>\n",
       "      <td>furnished</td>\n",
       "      <td>3.982096</td>\n",
       "    </tr>\n",
       "    <tr>\n",
       "      <th>4</th>\n",
       "      <td>1.045766</td>\n",
       "      <td>1.402131</td>\n",
       "      <td>-0.569663</td>\n",
       "      <td>0.224204</td>\n",
       "      <td>yes</td>\n",
       "      <td>yes</td>\n",
       "      <td>yes</td>\n",
       "      <td>no</td>\n",
       "      <td>yes</td>\n",
       "      <td>1.516299</td>\n",
       "      <td>no</td>\n",
       "      <td>furnished</td>\n",
       "      <td>3.551716</td>\n",
       "    </tr>\n",
       "  </tbody>\n",
       "</table>\n",
       "</div>"
      ],
      "text/plain": [
       "       area  bedrooms  bathrooms   stories mainroad guestroom basement  \\\n",
       "0  1.045766  1.402131   1.420507  1.376952      yes        no       no   \n",
       "1  1.755397  1.402131   5.400847  2.529700      yes        no       no   \n",
       "2  2.216196  0.047235   1.420507  0.224204      yes        no      yes   \n",
       "3  1.082630  1.402131   1.420507  0.224204      yes        no      yes   \n",
       "4  1.045766  1.402131  -0.569663  0.224204      yes       yes      yes   \n",
       "\n",
       "  hotwaterheating airconditioning   parking prefarea furnishingstatus  \\\n",
       "0              no             yes  1.516299      yes        furnished   \n",
       "1              no             yes  2.676950       no        furnished   \n",
       "2              no              no  1.516299      yes   semi-furnished   \n",
       "3              no             yes  2.676950      yes        furnished   \n",
       "4              no             yes  1.516299       no        furnished   \n",
       "\n",
       "      price  \n",
       "0  4.562174  \n",
       "1  4.000809  \n",
       "2  4.000809  \n",
       "3  3.982096  \n",
       "4  3.551716  "
      ]
     },
     "execution_count": 341,
     "metadata": {},
     "output_type": "execute_result"
    }
   ],
   "source": [
    "house_data[Numarical_colums] = (house_data[Numarical_colums] - Number_mean) / Number_std\n",
    "\n",
    "house_data.head()"
   ]
  },
  {
   "cell_type": "code",
   "execution_count": 342,
   "id": "b70ed0b6",
   "metadata": {},
   "outputs": [
    {
     "data": {
      "text/html": [
       "<div>\n",
       "<style scoped>\n",
       "    .dataframe tbody tr th:only-of-type {\n",
       "        vertical-align: middle;\n",
       "    }\n",
       "\n",
       "    .dataframe tbody tr th {\n",
       "        vertical-align: top;\n",
       "    }\n",
       "\n",
       "    .dataframe thead th {\n",
       "        text-align: right;\n",
       "    }\n",
       "</style>\n",
       "<table border=\"1\" class=\"dataframe\">\n",
       "  <thead>\n",
       "    <tr style=\"text-align: right;\">\n",
       "      <th></th>\n",
       "      <th>area</th>\n",
       "      <th>bedrooms</th>\n",
       "      <th>bathrooms</th>\n",
       "      <th>stories</th>\n",
       "      <th>mainroad</th>\n",
       "      <th>guestroom</th>\n",
       "      <th>basement</th>\n",
       "      <th>hotwaterheating</th>\n",
       "      <th>airconditioning</th>\n",
       "      <th>parking</th>\n",
       "      <th>prefarea</th>\n",
       "      <th>furnishingstatus</th>\n",
       "      <th>price</th>\n",
       "    </tr>\n",
       "  </thead>\n",
       "  <tbody>\n",
       "    <tr>\n",
       "      <th>0</th>\n",
       "      <td>1.045766</td>\n",
       "      <td>1.402131</td>\n",
       "      <td>1.420507</td>\n",
       "      <td>1.376952</td>\n",
       "      <td>1</td>\n",
       "      <td>0</td>\n",
       "      <td>0</td>\n",
       "      <td>0</td>\n",
       "      <td>1</td>\n",
       "      <td>1.516299</td>\n",
       "      <td>1</td>\n",
       "      <td>0</td>\n",
       "      <td>4.562174</td>\n",
       "    </tr>\n",
       "    <tr>\n",
       "      <th>1</th>\n",
       "      <td>1.755397</td>\n",
       "      <td>1.402131</td>\n",
       "      <td>5.400847</td>\n",
       "      <td>2.529700</td>\n",
       "      <td>1</td>\n",
       "      <td>0</td>\n",
       "      <td>0</td>\n",
       "      <td>0</td>\n",
       "      <td>1</td>\n",
       "      <td>2.676950</td>\n",
       "      <td>0</td>\n",
       "      <td>0</td>\n",
       "      <td>4.000809</td>\n",
       "    </tr>\n",
       "    <tr>\n",
       "      <th>2</th>\n",
       "      <td>2.216196</td>\n",
       "      <td>0.047235</td>\n",
       "      <td>1.420507</td>\n",
       "      <td>0.224204</td>\n",
       "      <td>1</td>\n",
       "      <td>0</td>\n",
       "      <td>1</td>\n",
       "      <td>0</td>\n",
       "      <td>0</td>\n",
       "      <td>1.516299</td>\n",
       "      <td>1</td>\n",
       "      <td>1</td>\n",
       "      <td>4.000809</td>\n",
       "    </tr>\n",
       "    <tr>\n",
       "      <th>3</th>\n",
       "      <td>1.082630</td>\n",
       "      <td>1.402131</td>\n",
       "      <td>1.420507</td>\n",
       "      <td>0.224204</td>\n",
       "      <td>1</td>\n",
       "      <td>0</td>\n",
       "      <td>1</td>\n",
       "      <td>0</td>\n",
       "      <td>1</td>\n",
       "      <td>2.676950</td>\n",
       "      <td>1</td>\n",
       "      <td>0</td>\n",
       "      <td>3.982096</td>\n",
       "    </tr>\n",
       "    <tr>\n",
       "      <th>4</th>\n",
       "      <td>1.045766</td>\n",
       "      <td>1.402131</td>\n",
       "      <td>-0.569663</td>\n",
       "      <td>0.224204</td>\n",
       "      <td>1</td>\n",
       "      <td>1</td>\n",
       "      <td>1</td>\n",
       "      <td>0</td>\n",
       "      <td>1</td>\n",
       "      <td>1.516299</td>\n",
       "      <td>0</td>\n",
       "      <td>0</td>\n",
       "      <td>3.551716</td>\n",
       "    </tr>\n",
       "  </tbody>\n",
       "</table>\n",
       "</div>"
      ],
      "text/plain": [
       "       area  bedrooms  bathrooms   stories  mainroad  guestroom  basement  \\\n",
       "0  1.045766  1.402131   1.420507  1.376952         1          0         0   \n",
       "1  1.755397  1.402131   5.400847  2.529700         1          0         0   \n",
       "2  2.216196  0.047235   1.420507  0.224204         1          0         1   \n",
       "3  1.082630  1.402131   1.420507  0.224204         1          0         1   \n",
       "4  1.045766  1.402131  -0.569663  0.224204         1          1         1   \n",
       "\n",
       "   hotwaterheating  airconditioning   parking  prefarea  furnishingstatus  \\\n",
       "0                0                1  1.516299         1                 0   \n",
       "1                0                1  2.676950         0                 0   \n",
       "2                0                0  1.516299         1                 1   \n",
       "3                0                1  2.676950         1                 0   \n",
       "4                0                1  1.516299         0                 0   \n",
       "\n",
       "      price  \n",
       "0  4.562174  \n",
       "1  4.000809  \n",
       "2  4.000809  \n",
       "3  3.982096  \n",
       "4  3.551716  "
      ]
     },
     "execution_count": 342,
     "metadata": {},
     "output_type": "execute_result"
    }
   ],
   "source": [
    "house_data[Categorical_colums] = house_data[Categorical_colums].apply(\n",
    "    lambda colum : pd.Categorical(colum).codes\n",
    ")\n",
    "\n",
    "house_data.head()"
   ]
  },
  {
   "cell_type": "markdown",
   "id": "a7b5af69",
   "metadata": {},
   "source": [
    "### Step-4: Split dataset by train, test & validation"
   ]
  },
  {
   "cell_type": "code",
   "execution_count": 343,
   "id": "569c373b",
   "metadata": {},
   "outputs": [],
   "source": [
    "seed =50\n",
    "np.random.seed(seed)\n"
   ]
  },
  {
   "cell_type": "code",
   "execution_count": 344,
   "id": "14e3ed66",
   "metadata": {},
   "outputs": [],
   "source": [
    "def split_dataset(House_Dataset, Train_ratio=0.6, Test_Val_ratio=0.2):\n",
    "    length_dataset = len(House_Dataset)\n",
    "    select_data = np.random.permutation(length_dataset)\n",
    "\n",
    "    Train_set = int(length_dataset * Train_ratio)\n",
    "    Val_set = int(length_dataset * Test_Val_ratio)\n",
    "\n",
    "    Train_indices = select_data[:Train_set]\n",
    "    Val_indices = select_data[Train_set:Train_set+Val_set]\n",
    "    Test_indices = select_data[Train_set + Val_set:]\n",
    "\n",
    "\n",
    "    Train_ds = House_Dataset.iloc[Train_indices]\n",
    "    Val_ds = House_Dataset.iloc[Val_indices]\n",
    "    Test_ds = House_Dataset.iloc[Test_indices]\n",
    "\n",
    "    Train_X = Train_ds.iloc[:,:-1]\n",
    "    Train_Y = Train_ds.iloc[:,-1]\n",
    "\n",
    "    Val_X = Val_ds.iloc[:,:-1]\n",
    "    Val_Y = Val_ds.iloc[:,-1]\n",
    "\n",
    "\n",
    "    Test_X = Test_ds.iloc[:,:-1]\n",
    "    Test_Y = Test_ds.iloc[:,-1]\n",
    "\n",
    "    return Train_X, Train_Y, Val_X, Val_Y, Test_X, Test_Y\n",
    "\n",
    "Train_X, Train_Y, Val_X, Val_Y, Test_X, Test_Y = split_dataset(house_data)"
   ]
  },
  {
   "cell_type": "code",
   "execution_count": 345,
   "id": "180eadca",
   "metadata": {},
   "outputs": [
    {
     "name": "stdout",
     "output_type": "stream",
     "text": [
      "327\n",
      "109\n",
      "109\n"
     ]
    }
   ],
   "source": [
    "print(len(Train_X))\n",
    "print(len(Val_X))\n",
    "print(len(Test_X))"
   ]
  },
  {
   "cell_type": "markdown",
   "id": "019ec9a8",
   "metadata": {},
   "source": [
    "### Step-5: Randomly initialize perameters"
   ]
  },
  {
   "cell_type": "code",
   "execution_count": 346,
   "id": "7c7bff1d",
   "metadata": {},
   "outputs": [],
   "source": [
    "def predict_house_price(x,w,b):\n",
    "    mse = np.dot(x, w) + b\n",
    "    return mse"
   ]
  },
  {
   "cell_type": "code",
   "execution_count": 347,
   "id": "89cce2f7",
   "metadata": {},
   "outputs": [
    {
     "data": {
      "text/plain": [
       "array([176, 114, 144, 139, 143, 170, 196, 120, 140, 101, 155, 116],\n",
       "      dtype=int32)"
      ]
     },
     "execution_count": 347,
     "metadata": {},
     "output_type": "execute_result"
    }
   ],
   "source": [
    "w = np.random.randint(100,200, size=Train_X.columns.size)\n",
    "b = np.random.randint(100,200)\n",
    "\n",
    "w"
   ]
  },
  {
   "cell_type": "markdown",
   "id": "d95a8724",
   "metadata": {},
   "source": [
    "### Step-6: Calculate cost/loss of dataset"
   ]
  },
  {
   "cell_type": "code",
   "execution_count": 348,
   "id": "42451590",
   "metadata": {},
   "outputs": [
    {
     "data": {
      "text/plain": [
       "np.float64(653050.6196785802)"
      ]
     },
     "execution_count": 348,
     "metadata": {},
     "output_type": "execute_result"
    }
   ],
   "source": [
    "def cost_function(X, y_true, w, b):\n",
    "    y_pred = predict_house_price(X,w,b)\n",
    "    mse = np.mean((y_true - y_pred)**2)\n",
    "    return mse\n",
    "\n",
    "\n",
    "mse = cost_function(Train_X, Train_Y, w, b)\n",
    "mse"
   ]
  },
  {
   "cell_type": "markdown",
   "id": "58ac238e",
   "metadata": {},
   "source": [
    "### Step-7: Gradeint Descent\n"
   ]
  },
  {
   "cell_type": "code",
   "execution_count": 349,
   "id": "f510721b",
   "metadata": {},
   "outputs": [],
   "source": [
    "def gradeint_descent(X, x_true, w, b):\n",
    "    delta = 1e-9\n",
    "\n",
    "    cost1 = cost_function(X, x_true, w, b)\n",
    "    cost2 = cost_function(X, x_true, w+delta, b)\n",
    "    cost3 = cost_function(X,x_true,w, b+delta)\n",
    "\n",
    "    dw = (cost2 - cost1) / delta\n",
    "    db = (cost3 - cost1) / delta\n",
    "\n",
    "    return dw, db\n"
   ]
  },
  {
   "cell_type": "code",
   "execution_count": 350,
   "id": "59ce7d2d",
   "metadata": {},
   "outputs": [
    {
     "name": "stdout",
     "output_type": "stream",
     "text": [
      "Epoch=0 / 100000 loss = 1.013, Validation loss = 0.934\n",
      "Epoch=1000 / 100000 loss = 0.614, Validation loss = 0.650\n",
      "Epoch=2000 / 100000 loss = 0.576, Validation loss = 0.603\n",
      "Epoch=3000 / 100000 loss = 0.545, Validation loss = 0.565\n",
      "Epoch=4000 / 100000 loss = 0.520, Validation loss = 0.533\n",
      "Epoch=5000 / 100000 loss = 0.501, Validation loss = 0.508\n",
      "Epoch=6000 / 100000 loss = 0.485, Validation loss = 0.487\n",
      "Epoch=7000 / 100000 loss = 0.472, Validation loss = 0.470\n",
      "Epoch=8000 / 100000 loss = 0.462, Validation loss = 0.456\n",
      "Epoch=9000 / 100000 loss = 0.454, Validation loss = 0.445\n",
      "Epoch=10000 / 100000 loss = 0.447, Validation loss = 0.435\n",
      "Epoch=11000 / 100000 loss = 0.442, Validation loss = 0.428\n",
      "Epoch=12000 / 100000 loss = 0.438, Validation loss = 0.421\n",
      "Epoch=13000 / 100000 loss = 0.435, Validation loss = 0.416\n",
      "Epoch=14000 / 100000 loss = 0.432, Validation loss = 0.412\n",
      "Epoch=15000 / 100000 loss = 0.430, Validation loss = 0.408\n",
      "Epoch=16000 / 100000 loss = 0.428, Validation loss = 0.405\n",
      "Epoch=17000 / 100000 loss = 0.427, Validation loss = 0.403\n",
      "Epoch=18000 / 100000 loss = 0.425, Validation loss = 0.401\n",
      "Epoch=19000 / 100000 loss = 0.425, Validation loss = 0.399\n",
      "Epoch=20000 / 100000 loss = 0.424, Validation loss = 0.397\n",
      "Epoch=21000 / 100000 loss = 0.423, Validation loss = 0.396\n",
      "Epoch=22000 / 100000 loss = 0.423, Validation loss = 0.395\n",
      "Epoch=23000 / 100000 loss = 0.422, Validation loss = 0.394\n",
      "Epoch=24000 / 100000 loss = 0.422, Validation loss = 0.393\n",
      "Epoch=25000 / 100000 loss = 0.422, Validation loss = 0.393\n",
      "Epoch=26000 / 100000 loss = 0.422, Validation loss = 0.392\n",
      "Epoch=27000 / 100000 loss = 0.422, Validation loss = 0.392\n",
      "Epoch=28000 / 100000 loss = 0.421, Validation loss = 0.391\n",
      "Epoch=29000 / 100000 loss = 0.421, Validation loss = 0.391\n",
      "Epoch=30000 / 100000 loss = 0.421, Validation loss = 0.391\n",
      "Epoch=31000 / 100000 loss = 0.421, Validation loss = 0.390\n",
      "Epoch=32000 / 100000 loss = 0.421, Validation loss = 0.390\n",
      "Epoch=33000 / 100000 loss = 0.421, Validation loss = 0.390\n",
      "Epoch=34000 / 100000 loss = 0.421, Validation loss = 0.390\n",
      "Epoch=35000 / 100000 loss = 0.421, Validation loss = 0.390\n",
      "Epoch=36000 / 100000 loss = 0.421, Validation loss = 0.390\n",
      "Epoch=37000 / 100000 loss = 0.421, Validation loss = 0.389\n",
      "Epoch=38000 / 100000 loss = 0.421, Validation loss = 0.389\n",
      "Epoch=39000 / 100000 loss = 0.421, Validation loss = 0.389\n",
      "Epoch=40000 / 100000 loss = 0.421, Validation loss = 0.389\n",
      "Epoch=41000 / 100000 loss = 0.421, Validation loss = 0.389\n",
      "Epoch=42000 / 100000 loss = 0.421, Validation loss = 0.389\n",
      "Epoch=43000 / 100000 loss = 0.421, Validation loss = 0.389\n",
      "Epoch=44000 / 100000 loss = 0.421, Validation loss = 0.389\n",
      "Epoch=45000 / 100000 loss = 0.421, Validation loss = 0.389\n",
      "Epoch=46000 / 100000 loss = 0.421, Validation loss = 0.389\n",
      "Epoch=47000 / 100000 loss = 0.421, Validation loss = 0.389\n",
      "Epoch=48000 / 100000 loss = 0.421, Validation loss = 0.389\n",
      "Epoch=49000 / 100000 loss = 0.421, Validation loss = 0.389\n",
      "Epoch=50000 / 100000 loss = 0.421, Validation loss = 0.389\n",
      "Epoch=51000 / 100000 loss = 0.421, Validation loss = 0.389\n",
      "Epoch=52000 / 100000 loss = 0.421, Validation loss = 0.389\n",
      "Epoch=53000 / 100000 loss = 0.421, Validation loss = 0.389\n",
      "Epoch=54000 / 100000 loss = 0.421, Validation loss = 0.389\n",
      "Epoch=55000 / 100000 loss = 0.421, Validation loss = 0.389\n",
      "Epoch=56000 / 100000 loss = 0.421, Validation loss = 0.389\n",
      "Epoch=57000 / 100000 loss = 0.421, Validation loss = 0.389\n",
      "Epoch=58000 / 100000 loss = 0.421, Validation loss = 0.389\n",
      "Epoch=59000 / 100000 loss = 0.421, Validation loss = 0.388\n",
      "Epoch=60000 / 100000 loss = 0.421, Validation loss = 0.388\n",
      "Epoch=61000 / 100000 loss = 0.421, Validation loss = 0.388\n",
      "Epoch=62000 / 100000 loss = 0.421, Validation loss = 0.388\n",
      "Epoch=63000 / 100000 loss = 0.421, Validation loss = 0.388\n",
      "Epoch=64000 / 100000 loss = 0.421, Validation loss = 0.388\n",
      "Epoch=65000 / 100000 loss = 0.421, Validation loss = 0.388\n",
      "Epoch=66000 / 100000 loss = 0.421, Validation loss = 0.388\n",
      "Epoch=67000 / 100000 loss = 0.421, Validation loss = 0.388\n",
      "Epoch=68000 / 100000 loss = 0.421, Validation loss = 0.388\n",
      "Epoch=69000 / 100000 loss = 0.421, Validation loss = 0.388\n",
      "Epoch=70000 / 100000 loss = 0.421, Validation loss = 0.388\n",
      "Epoch=71000 / 100000 loss = 0.421, Validation loss = 0.388\n",
      "Epoch=72000 / 100000 loss = 0.421, Validation loss = 0.388\n",
      "Epoch=73000 / 100000 loss = 0.421, Validation loss = 0.388\n",
      "Epoch=74000 / 100000 loss = 0.421, Validation loss = 0.388\n",
      "Epoch=75000 / 100000 loss = 0.421, Validation loss = 0.388\n",
      "Epoch=76000 / 100000 loss = 0.421, Validation loss = 0.388\n",
      "Epoch=77000 / 100000 loss = 0.421, Validation loss = 0.388\n",
      "Epoch=78000 / 100000 loss = 0.421, Validation loss = 0.388\n",
      "Epoch=79000 / 100000 loss = 0.421, Validation loss = 0.388\n",
      "Epoch=80000 / 100000 loss = 0.421, Validation loss = 0.388\n",
      "Epoch=81000 / 100000 loss = 0.421, Validation loss = 0.388\n",
      "Epoch=82000 / 100000 loss = 0.421, Validation loss = 0.388\n",
      "Epoch=83000 / 100000 loss = 0.421, Validation loss = 0.388\n",
      "Epoch=84000 / 100000 loss = 0.421, Validation loss = 0.388\n",
      "Epoch=85000 / 100000 loss = 0.421, Validation loss = 0.388\n",
      "Epoch=86000 / 100000 loss = 0.421, Validation loss = 0.388\n",
      "Epoch=87000 / 100000 loss = 0.421, Validation loss = 0.388\n",
      "Epoch=88000 / 100000 loss = 0.421, Validation loss = 0.388\n",
      "Epoch=89000 / 100000 loss = 0.421, Validation loss = 0.388\n",
      "Epoch=90000 / 100000 loss = 0.421, Validation loss = 0.388\n",
      "Epoch=91000 / 100000 loss = 0.421, Validation loss = 0.388\n",
      "Epoch=92000 / 100000 loss = 0.421, Validation loss = 0.388\n",
      "Epoch=93000 / 100000 loss = 0.421, Validation loss = 0.388\n",
      "Epoch=94000 / 100000 loss = 0.421, Validation loss = 0.388\n",
      "Epoch=95000 / 100000 loss = 0.421, Validation loss = 0.388\n",
      "Epoch=96000 / 100000 loss = 0.421, Validation loss = 0.388\n",
      "Epoch=97000 / 100000 loss = 0.421, Validation loss = 0.388\n",
      "Epoch=98000 / 100000 loss = 0.421, Validation loss = 0.388\n",
      "Epoch=99000 / 100000 loss = 0.421, Validation loss = 0.388\n"
     ]
    }
   ],
   "source": [
    "\n",
    "def train_Model(Train_X, Train_Y, Val_X, Val_Y, epochs=100000, learning_rate =0.0001):\n",
    "    w = np.zeros(Train_X.columns.size)\n",
    "    b = 0\n",
    "    for epoch in range(epochs):\n",
    "        loss = cost_function(Train_X, Train_Y, w, b)\n",
    "        valid_loss = cost_function(Val_X, Val_Y, w, b)\n",
    "\n",
    "        dw, db = gradeint_descent(Train_X, Train_Y, w, b)\n",
    "\n",
    "        w = w - learning_rate*dw\n",
    "        b = b - learning_rate*db\n",
    "\n",
    "        if epoch % 1000 == 0:\n",
    "           print(f'Epoch={epoch} / {epochs} loss = {loss:0.3f}, Validation loss = {valid_loss:0.3f}')\n",
    "    return w, b\n",
    "\n",
    "w, b = train_Model(Train_X, Train_Y, Val_X, Val_Y)"
   ]
  },
  {
   "cell_type": "code",
   "execution_count": 351,
   "id": "da3f0d2c",
   "metadata": {},
   "outputs": [
    {
     "name": "stdout",
     "output_type": "stream",
     "text": [
      "[0.21416544 0.21416544 0.21416544 0.21416544 0.21416544 0.21416544\n",
      " 0.21416544 0.21416544 0.21416544 0.21416544 0.21416544 0.21416544]\n",
      "-0.636198392073295\n"
     ]
    }
   ],
   "source": [
    "print(w)\n",
    "print(b)"
   ]
  },
  {
   "cell_type": "code",
   "execution_count": 352,
   "id": "f901b2be",
   "metadata": {},
   "outputs": [
    {
     "data": {
      "text/plain": [
       "np.float64(0.4209552897852878)"
      ]
     },
     "execution_count": 352,
     "metadata": {},
     "output_type": "execute_result"
    }
   ],
   "source": [
    "mse = cost_function(Train_X, Train_Y, w, b)\n",
    "mse"
   ]
  },
  {
   "cell_type": "markdown",
   "id": "04654e35",
   "metadata": {},
   "source": [
    "### Step-8: Calculate KL Divergence of Train, Test & Validation"
   ]
  },
  {
   "cell_type": "code",
   "execution_count": 353,
   "id": "0a561388",
   "metadata": {},
   "outputs": [],
   "source": [
    "from scipy.stats import entropy\n",
    "def KL_Divergence(__y_true, __y_predict):\n",
    "    hist_true,__=np.histogram(__y_true,bins=50,density=True)\n",
    "    hist_predict,__=np.histogram(__y_predict,bins=50,density=True)\n",
    "    return entropy(hist_true + 1e-10 , hist_predict + 1e-10)"
   ]
  },
  {
   "cell_type": "code",
   "execution_count": 354,
   "id": "9519d81c",
   "metadata": {},
   "outputs": [
    {
     "name": "stdout",
     "output_type": "stream",
     "text": [
      "Traing dataset KL Divergence is ->0.3930924843695032\n",
      "Testing dataset KL Divergence is ->8.65595890442876\n",
      "Validation dataset KL Divergence is ->2.4428139420754174\n"
     ]
    }
   ],
   "source": [
    "print(f'Traing dataset KL Divergence is ->{KL_Divergence(np.array(Train_Y), predict_house_price(Train_X, w, b))}')\n",
    "print(f'Testing dataset KL Divergence is ->{KL_Divergence(np.array(Test_Y), predict_house_price(Test_X, w, b))}')\n",
    "print(f'Validation dataset KL Divergence is ->{KL_Divergence(np.array(Val_Y), predict_house_price(Val_X, w, b))}')\n"
   ]
  },
  {
   "cell_type": "markdown",
   "id": "78b6575b",
   "metadata": {},
   "source": [
    "### Thank You\n"
   ]
  }
 ],
 "metadata": {
  "kernelspec": {
   "display_name": "Python 3",
   "language": "python",
   "name": "python3"
  },
  "language_info": {
   "codemirror_mode": {
    "name": "ipython",
    "version": 3
   },
   "file_extension": ".py",
   "mimetype": "text/x-python",
   "name": "python",
   "nbconvert_exporter": "python",
   "pygments_lexer": "ipython3",
   "version": "3.12.3"
  }
 },
 "nbformat": 4,
 "nbformat_minor": 5
}
